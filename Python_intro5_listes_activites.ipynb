{
 "cells": [
  {
   "cell_type": "markdown",
   "metadata": {},
   "source": [
    "# ACTIVITES PYTHON APPLIQUEES AUX PROGRAMMES DE 1 ET T BCP : utilisation des listes"
   ]
  },
  {
   "cell_type": "markdown",
   "metadata": {},
   "source": [
    "Ce notebook présente des activités utilisant les **listes** du langage Python.  \n",
    "Les objectifs visés sont la consolidation de notions de programmation liées aux listes, la présentation d'exemples d'activités pour les élèves, et l'utilisation d'un *Notebook Jupyter* comme document d'apprentissage destiné les élèves.  \n",
    "* La première partie présente des activités de manipulation de listes.  \n",
    "* La deuxième partie présente des activités liées aux programmes de 1ère et Tale BCP et suggérées dans les parties *Exemples d'algorithmes ou d'activités numériques* des programmes.  \n",
    "Des activités introduisent des exemples d'utilisation de la bibliothèque *matplotlib* pour la réalisation de graphiques et du module *numpy* pour la création de séquences.\n",
    "\n",
    "**Les codes du document peuvent être complétés, testés et modifiés**. Pour celà, `clic` sur le cadre, puis `shift-enter` ou &#x27A7;`Exécuter` dans la barre d'outils ci-dessus.  \n",
    "Pour *rafraîchir* tous les codes, `Kernel` -> `Restart & Clear Output`  \n",
    "Pour *rafraîchir* un seul code (*JupyterLab*), `clic-droit` -> `Clear Outputs`"
   ]
  },
  {
   "cell_type": "markdown",
   "metadata": {},
   "source": [
    "## Manipulations de listes"
   ]
  },
  {
   "cell_type": "markdown",
   "metadata": {},
   "source": [
    "1. Compléter et exécuter le programme suivant qui doit afficher l'élément de valeur maximale d'une liste donnée."
   ]
  },
  {
   "cell_type": "code",
   "execution_count": null,
   "metadata": {},
   "outputs": [],
   "source": [
    "liste1=[32,5,12,8,3,75,2,15]\n",
    "\n",
    "liste1_triee=                 #pensez à utiliser la méthode sort() ou la fonction sorted()\n",
    "max=\n",
    "\n",
    "print(\"Le plus grand élément de la liste est : \", max)"
   ]
  },
  {
   "cell_type": "markdown",
   "metadata": {},
   "source": [
    "2. Compléter le programme suivant qui doit analyser un par un tous les éléments d'une liste de nombres pour générer deux nouvelles listes. L'une contiendra seulement les nombres pairs de la liste initiale, et l'autre les nombres impairs."
   ]
  },
  {
   "cell_type": "code",
   "execution_count": null,
   "metadata": {},
   "outputs": [],
   "source": [
    "liste=[32,5,12,8,3,75,2,15]\n",
    "\n",
    "#intanciation des listes\n",
    "liste_pair=[]\n",
    "liste_impair=[]\n",
    "\n",
    "for i in liste:     #parcours de la liste à traiter\n",
    "    if i%2==0:      #l'opérateur modulo % donne le reste de la division entière \n",
    "        \n",
    "        #votre code\n",
    "        \n",
    "    else:\n",
    "        \n",
    "        #votre code\n",
    "        \n",
    "print(liste_pair,liste_impair)"
   ]
  },
  {
   "cell_type": "markdown",
   "metadata": {},
   "source": [
    "3. Écrire un programme qui analyse un par un tous les éléments d'une liste de mots pour générer deux nouvelles listes. L'une contiendra les mots comportant moins de 6 caractères, l'autre les mots comportant 6 caractères ou davantage."
   ]
  },
  {
   "cell_type": "code",
   "execution_count": null,
   "metadata": {},
   "outputs": [],
   "source": [
    "liste=['Jean', 'Maximilien', 'Brigitte', 'Sonia', 'Jean-Pierre', 'Sandra']\n",
    "\n",
    "\n",
    "#votre code\n",
    "\n",
    "\n"
   ]
  },
  {
   "cell_type": "markdown",
   "metadata": {},
   "source": [
    "## Applications aux mathématiques"
   ]
  },
  {
   "cell_type": "markdown",
   "metadata": {},
   "source": [
    "### Calculs commerciaux et financiers"
   ]
  },
  {
   "cell_type": "markdown",
   "metadata": {},
   "source": [
    "1. Soit un capital C0 placé sur un compte rémunéré à *intérêts simples* au taux annuel de t %.  \n",
    "Compléter et exécuter la fonction *interets_simples(C0, t, n)* qui renvoie la liste des valeurs acquises chaque mois par le capital pour une période de n mois.  \n",
    "Exemple:    *interets_simples(1000,5,10)* renvoie\n",
    "\n",
    "            [1004.17, 1008.33, 1012.5, 1016.67, 1020.83, 1025.0, 1029.17, 1033.33, 1037.5, 1041.67]"
   ]
  },
  {
   "cell_type": "code",
   "execution_count": null,
   "metadata": {},
   "outputs": [],
   "source": [
    "def interets_simples(C0,t,n):\n",
    "    \"\"\"\n",
    "    C0: capital initial\n",
    "    t: taux annuel en %\n",
    "    n: période en mois\n",
    "    Renvoi:\n",
    "    [valeur acquise après 1 mois, valeur acquise après 2 mois, ..., valeur acquise après n mois]\n",
    "    \"\"\"\n",
    "       \n",
    "    t_mois=\n",
    "    #instanciation de la liste des résultats\n",
    "    L=[]\n",
    "    #calculs des intérêts et des valeurs acquises chaque mois\n",
    "    for i in range(n):   #!!!! range (n) renvoie une séquence d'entiers compris entre 0 et n-1\n",
    "        I=\n",
    "        C=\n",
    "        L=\n",
    "        \n",
    "    return print(L)"
   ]
  },
  {
   "cell_type": "code",
   "execution_count": null,
   "metadata": {},
   "outputs": [],
   "source": [
    "interets_simples(1000,5,10)       #pour afficher des résultats arrondis aux centimes, \n",
    "                                  #dans le script de la fonction,utiliser la fonction: round(number, ndigits=None)"
   ]
  },
  {
   "cell_type": "markdown",
   "metadata": {},
   "source": [
    "2. ***Activité Hors-Programme***  \n",
    "Créer une fonction *interets_composes(C0,t,n)* qui renvoie la liste des valeurs acquises chaque année par le capital pour une période de *n* années.  \n",
    "Exemple:    *interets_composes(1000,3,10)* renvoie\n",
    "\n",
    "            [1030.0, 1060.9, 1092.73, 1125.51, 1159.27, 1194.05, 1229.87, 1266.77, 1304.77, 1343.92]"
   ]
  },
  {
   "cell_type": "code",
   "execution_count": null,
   "metadata": {},
   "outputs": [],
   "source": [
    "def interets_composes(C0,t,n):\n",
    "    \"\"\"\n",
    "    CO: capital initial\n",
    "    t: taux annuel en %\n",
    "    n: période en ans\n",
    "    Renvoi:\n",
    "    [valeur acquise après 1 an, valeur acquise après 2 ans, ...,  valeur acquise après n ans]\n",
    "    \"\"\"\n",
    "   \n",
    "    #votre code    \n",
    "   "
   ]
  },
  {
   "cell_type": "code",
   "execution_count": null,
   "metadata": {},
   "outputs": [],
   "source": [
    "#test\n",
    "interets_composes(1000,3,10)"
   ]
  },
  {
   "cell_type": "markdown",
   "metadata": {},
   "source": [
    "### Suites numériques"
   ]
  },
  {
   "cell_type": "markdown",
   "metadata": {},
   "source": [
    "1. Soit la suite <var>(v<sub>n</sub>)</var> définie par <var>v(n) = n<sup>3</sup>-75.n<sup>2</sup>+1350.n-5000</var> avec <var>n</var> entier positif.   \n",
    "Programmer une fonction <i>liste_termes(n)</i> renvoyant la liste des <i>n</i> premiers termes.  \n",
    "Exemple:    <i>liste_termes(15)</i> renvoie \n",
    "\n",
    "            [-5000, -3724, -2592, -1598, -736, 0, 616, 1118, 1512, 1804, 2000, 2106, 2128, 2072, 1944]"
   ]
  },
  {
   "cell_type": "code",
   "execution_count": null,
   "metadata": {},
   "outputs": [],
   "source": [
    "#pour la suite vn de premier terme v0\n",
    "def liste_termes(n):\n",
    " \n",
    "    #votre code\n",
    "    #pensez à utiliser la compréhension de liste\n",
    "    \n",
    "    return L"
   ]
  },
  {
   "cell_type": "code",
   "execution_count": null,
   "metadata": {},
   "outputs": [],
   "source": [
    "a=liste_termes(15) #affectation du résultat à la variable a\n",
    "print(a)           #affichage"
   ]
  },
  {
   "cell_type": "code",
   "execution_count": 1,
   "metadata": {},
   "outputs": [
    {
     "data": {
      "image/png": "[encoded data removed]",
      "text/plain": [
       "<Figure size 432x288 with 1 Axes>"
      ]
     },
     "metadata": {
      "needs_background": "light"
     },
     "output_type": "display_data"
    }
   ],
   "source": [
    "#présentation graphique des résultats en utilisant la bibliothèque matplotlib\n",
    "%matplotlib inline\n",
    "import matplotlib.pyplot as plt            #quelques secondes pour le chargement.....\n",
    "\n",
    "X=[i for i in range(0,15)]                 #liste des abscisses\n",
    "Y=[i**3-75*i**2+1350*i-5000 for i in X]    #liste des ordonnées\n",
    "plt.scatter(X,Y)                           #la méthode scatter réalise un nuage de points\n",
    "plt.show()                                 #affichage de la figure"
   ]
  },
  {
   "cell_type": "markdown",
   "metadata": {},
   "source": [
    "2. Programmer les fonctions:  \n",
    "&bull; *maxi_suite(n)* renvoyant, pour les *n* premiers termes, le terme de valeur maximale  \n",
    "&bull; *somme_suite(n)* renvoyant la somme des <i>n</i> premiers termes"
   ]
  },
  {
   "cell_type": "code",
   "execution_count": null,
   "metadata": {},
   "outputs": [],
   "source": [
    "def maxi_suite(n):\n",
    "    \n",
    "    #votre code\n",
    "    #pensez à utiliser la fonction précédente liste_termes\n",
    "    \n",
    "    return L\n",
    "\n",
    "\n",
    "def somme_suite(n):\n",
    "    \n",
    "    #votre code\n",
    "    \n",
    "    return L       #L est une variable locale à la fonction."
   ]
  },
  {
   "cell_type": "code",
   "execution_count": null,
   "metadata": {},
   "outputs": [],
   "source": [
    "#tests\n",
    "print(maxi_suite(15))\n",
    "print(somme_suite(15))"
   ]
  },
  {
   "cell_type": "markdown",
   "metadata": {},
   "source": [
    "3. Soient les suites définies par récurrence:  \n",
    "<var>u<sub>n+1</sub> = u<sub>n</sub>+105</var> et  <var>u<sub>0</sub></var> = 200  \n",
    "<var>v<sub>n+1</sub> = 1,5.v<sub>n</sub></var> et  <var>v<sub>0</sub></var> = 3  \n",
    "Programmer les mêmes fonctions que précédemment."
   ]
  },
  {
   "cell_type": "code",
   "execution_count": null,
   "metadata": {},
   "outputs": [],
   "source": [
    "#pour la suite un\n",
    "def liste_termes(n):\n",
    " \n",
    "    #votre code\n",
    "    \n",
    "    return L\n",
    "\n",
    "\n",
    "def maxi_suite(n):\n",
    "    \n",
    "    #votre code\n",
    "        \n",
    "    return L\n",
    "\n",
    "\n",
    "def somme_suite(n):\n",
    "    \n",
    "    #votre code\n",
    "    \n",
    "    return L       "
   ]
  },
  {
   "cell_type": "code",
   "execution_count": null,
   "metadata": {},
   "outputs": [],
   "source": [
    "#tests\n",
    "print(liste_termes(15))\n",
    "print(maxi_suite(15))\n",
    "print(somme_suite(15))"
   ]
  },
  {
   "cell_type": "markdown",
   "metadata": {},
   "source": [
    "### Fonctions"
   ]
  },
  {
   "cell_type": "markdown",
   "metadata": {},
   "source": [
    "1. Créer les listes suivantes:  \n",
    "&bull; L1 : liste de valeurs de 0 à 10 avec un pas de 1  \n",
    "&bull; L2 : liste de valeurs de 0 à 10 avec un pas de 0,5  \n",
    "&bull; L3 : liste de valeurs de 0 à 10 avec un pas de 0,1"
   ]
  },
  {
   "cell_type": "code",
   "execution_count": null,
   "metadata": {},
   "outputs": [],
   "source": [
    "#L1\n",
    "\n",
    "#votre code\n"
   ]
  },
  {
   "cell_type": "code",
   "execution_count": null,
   "metadata": {},
   "outputs": [],
   "source": [
    "#L2\n",
    "#la méthode la plus simple est d'utiliser des fonctions du module numpy\n",
    "#arange() et linspace() génèrent des séquences de nombres\n",
    "import numpy as np  #importation du module pour pouvoir utiliser ses méthodes\n",
    "\n",
    "L2=[i for i in np.arange(0,10,0.5)]       #arange(start,end,step)   start:inclus , end:exclus\n",
    "L22=[i for i in np.linspace(0,10,11)]     #linspace(star,end,nombre de valeurs)\n",
    "print(L2)\n",
    "print(L22)"
   ]
  },
  {
   "cell_type": "code",
   "execution_count": null,
   "metadata": {},
   "outputs": [],
   "source": [
    "#L3\n",
    "\n",
    "#votre code\n"
   ]
  },
  {
   "cell_type": "markdown",
   "metadata": {},
   "source": [
    "2. Utiliser la méthode de compréhension de liste pour créer les fonctions suivantes:  \n",
    "&bull; *f_carre(L)* qui renvoie les carrés des éléments de la liste L  \n",
    "&bull; *f_sin(L)* qui renvoie les sinus des éléments de la liste L"
   ]
  },
  {
   "cell_type": "code",
   "execution_count": null,
   "metadata": {},
   "outputs": [],
   "source": [
    "def f_carre(L):\n",
    "    \n",
    "    #votre code\n",
    "    \n",
    "    return liste_carres\n",
    "\n",
    "#test\n",
    "L=[3,5,7,11,13,17] \n",
    "print(f_carre(L))"
   ]
  },
  {
   "cell_type": "code",
   "execution_count": null,
   "metadata": {},
   "outputs": [],
   "source": [
    "def f_sinus(L):\n",
    "    \n",
    "    #votre code\n",
    "    \n",
    "    return liste_sinus\n",
    "\n",
    "#test\n",
    "from math import sin, pi\n",
    "L=[0, pi/6,pi/3,pi/2] \n",
    "print(f_sinus(L))"
   ]
  },
  {
   "cell_type": "markdown",
   "metadata": {},
   "source": [
    "### Statistique"
   ]
  },
  {
   "cell_type": "markdown",
   "metadata": {},
   "source": [
    "1. Programmer la fonction *moy(L)* qui renvoie la moyenne des valeurs d'une liste L."
   ]
  },
  {
   "cell_type": "code",
   "execution_count": null,
   "metadata": {},
   "outputs": [],
   "source": [
    "def moy(L):\n",
    "    \n",
    "    #votre code\n",
    "    \n",
    "    return moyenne"
   ]
  },
  {
   "cell_type": "code",
   "execution_count": null,
   "metadata": {},
   "outputs": [],
   "source": [
    "#test: liste des tailles des élèves\n",
    "L_tailles = [169, 179, 181, 168, 172, 171, 189, 170, 165, 183, 171, 169, 177, 180, 176, 161,\n",
    "     174, 164, 166, 178, 176, 179, 181, 178, 160, 178, 183, 162, 181, 169, 184, 169,\n",
    "     172, 187, 170, 172, 180, 178, 175, 172, 184, 177, 171, 179, 172, 180, 185, 191]\n",
    "\n",
    "a=moy(L_tailles)\n",
    "print(a)"
   ]
  },
  {
   "cell_type": "markdown",
   "metadata": {},
   "source": [
    "2. Programmer la fonction *med(L)* renvoyant la médiane des valeurs d’une liste L."
   ]
  },
  {
   "cell_type": "code",
   "execution_count": null,
   "metadata": {},
   "outputs": [],
   "source": [
    "def med(L):\n",
    "    \n",
    "    #votre code\n",
    "    \n",
    "    return mediane\n",
    "\n",
    "#test\n",
    "print(med(L_tailles))"
   ]
  },
  {
   "cell_type": "markdown",
   "metadata": {},
   "source": [
    "3. La fonction *liste_eff(L)* ci-dessous retourne une liste de la forme [(v<sub>1</sub>, n<sub>1</sub>), (v<sub>2</sub>, n<sub>2</sub>), (v<sub>3</sub>, n<sub>3</sub>), ...] où v<sub>i</sub> sont les valeurs des éléments d'une liste L et n<sub>i</sub> les effectifs des valeurs.  \n",
    "Observer et exécuter le script suivant:"
   ]
  },
  {
   "cell_type": "code",
   "execution_count": null,
   "metadata": {},
   "outputs": [],
   "source": [
    "def liste_eff(L):               #L est une liste\n",
    "    X=[]\n",
    "    for x in L:\n",
    "        if x not in X:\n",
    "            X.append(x)         #Que contient la liste X en sortie ??\n",
    "\n",
    "    L_eff=[]\n",
    "    for i in X:\n",
    "        eff=L.count(i)          #la méthode count compte le nombre d'occurence de la valeur i\n",
    "        L_eff=L_eff+[(i,eff)] \n",
    "\n",
    "    return sorted(L_eff)        #Que contient la liste L_eff en sortie ??"
   ]
  },
  {
   "cell_type": "code",
   "execution_count": null,
   "metadata": {},
   "outputs": [],
   "source": [
    "#test: liste des tailles des élèves\n",
    "b=liste_eff(L_tailles)\n",
    "print(b)"
   ]
  },
  {
   "cell_type": "code",
   "execution_count": null,
   "metadata": {},
   "outputs": [],
   "source": [
    "#exécuter et modifier le code suivant permettant l'accès aux valeurs\n",
    "b=liste_eff(L_tailles)\n",
    "print(b[1])       #affiche l'élément d'indice 1\n",
    "print(b[1][0])    #affiche l'élément de a[1] d'indice 0\n",
    "print(b[1][1])    #affiche l'élément de a[1] d'indice 1"
   ]
  },
  {
   "cell_type": "code",
   "execution_count": null,
   "metadata": {},
   "outputs": [],
   "source": [
    "#Réalisation d'un diagramme statistique\n",
    "%matplotlib inline\n",
    "import matplotlib.pyplot as plt\n",
    "\n",
    "plt.figure(figsize=(15,3))\n",
    "\n",
    "L_eff=liste_eff(L_tailles)\n",
    "X=[i[0] for i in L_eff]    #récupération des valeurs pour la liste des abscisses\n",
    "Y=[i[1] for i in L_eff]    #récupération des effectifs pour la liste des ordonnées\n",
    "plt.bar(X,Y,width=0.4)     #création d'un diagramme en barres\n",
    "\n",
    "plt.xticks(X)\n",
    "plt.xlabel(\"valeurs\", fontsize=\"14\", color=\"b\")\n",
    "plt.ylabel(\"Effectifs\", fontsize=\"14\", color=\"b\")\n",
    "\n",
    "plt.show()"
   ]
  },
  {
   "cell_type": "markdown",
   "metadata": {},
   "source": [
    "4. Programmer la fonction *liste_freq(L)* renvoyant les fréquences de chaque valeur d’une liste L."
   ]
  },
  {
   "cell_type": "code",
   "execution_count": null,
   "metadata": {},
   "outputs": [],
   "source": [
    "def liste_freq(L):\n",
    "    \n",
    "    #votre code   \n",
    "    #pensez à utiliser la fonction liste_eff\n",
    "    \n",
    "    return L_freq\n",
    "\n",
    "#test\n",
    "print(liste_freq(L_tailles))"
   ]
  },
  {
   "cell_type": "markdown",
   "metadata": {},
   "source": [
    "### Probabilités"
   ]
  },
  {
   "cell_type": "markdown",
   "metadata": {},
   "source": [
    "1. Le module *random*  \n",
    "Ce module permet la génération de nombres aléatoires."
   ]
  },
  {
   "cell_type": "code",
   "execution_count": null,
   "metadata": {},
   "outputs": [],
   "source": [
    "#Exécuter, modifier et tester\n",
    "from random import *       #chargement de toutes les méthodes et attributs du module\n",
    "a=random()                 #renvoie un nombre aléatoire compris entre 0(inclus) et 1(exclus)\n",
    "b=randint(1,6)             #renvoie un nombre aléatoire compris entre 1(inclus) et 6(inclus!!!)\n",
    "print(a)\n",
    "print(b)"
   ]
  },
  {
   "cell_type": "markdown",
   "metadata": {},
   "source": [
    "2. Soit l'expérience aléatoire « lancer d’un dé à 6 faces ».  \n",
    "Programmer la fonction *de(n)* renvoyant la liste des résultats pour un échantillon de taille *n* .  \n",
    "Exemple:    *de(10)* renvoie une liste de la forme \n",
    "\n",
    "            [(1,3),(2,1),(4,3),(5,2),(6,1)]"
   ]
  },
  {
   "cell_type": "code",
   "execution_count": null,
   "metadata": {},
   "outputs": [],
   "source": [
    "def de(n):\n",
    "    \n",
    "    #votre code\n",
    "    #pensez à utiliser la fonction liste_eff()\n",
    "    \n",
    "    return L\n",
    "\n",
    "#test fonction\n",
    "print(de(10))"
   ]
  },
  {
   "cell_type": "markdown",
   "metadata": {},
   "source": [
    "3. Programmer la fonction *de_freq(n)* renvoyant la liste des fréquences des résultats précédents.  \n",
    "Exemple:    *de_freq(10)* renvoie une liste de la forme \n",
    "\n",
    "            [(1,30),(2,10),(4,30),(5,20),(6,10)]"
   ]
  },
  {
   "cell_type": "code",
   "execution_count": null,
   "metadata": {},
   "outputs": [],
   "source": [
    "def de_freq(n):\n",
    "    \n",
    "    #votre code\n",
    "    #utiliser la fonction liste_freq()\n",
    "    \n",
    "    return L\n",
    "\n",
    "#test fonction\n",
    "print(de_freq(10))"
   ]
  },
  {
   "cell_type": "code",
   "execution_count": null,
   "metadata": {},
   "outputs": [],
   "source": [
    "#Réalisation d'un diagramme statistique\n",
    "%matplotlib inline\n",
    "import matplotlib.pyplot as plt\n",
    "\n",
    "plt.figure(figsize=(15,3))\n",
    "\n",
    "X=[i[0] for i in de_freq(10)]    #récupération des valeurs pour la liste des abscisses\n",
    "Y=[i[1] for i in de_freq(10)]    #récupération des effectifs pour la liste des ordonnées\n",
    "plt.bar(X,Y,width=0.4)           #création d'un diagramme en barres\n",
    "\n",
    "plt.xticks(X)\n",
    "plt.xlabel(\"Evénements\", fontsize=\"14\", color=\"b\")\n",
    "plt.ylabel(\"Fréquences en %\", fontsize=\"14\", color=\"b\")\n",
    "plt.title(\"LANCERS D'UN DE A 6 FACES\")\n",
    "\n",
    "plt.show()"
   ]
  },
  {
   "cell_type": "markdown",
   "metadata": {},
   "source": [
    "4. Soit l'expérience aléatoire « lancer de 2 dés à 6 faces ».  \n",
    "Programmer la fonction *de2(n)* renvoyant la liste des résultats pour un échantillon de taille *n* .  \n",
    "Exemple:    *de2(10)* renvoie une liste de la forme \n",
    "\n",
    "            [(2, 1), (5, 3), (6, 3), (11, 3)]"
   ]
  },
  {
   "cell_type": "code",
   "execution_count": null,
   "metadata": {},
   "outputs": [],
   "source": [
    "def de2(n):\n",
    "    \n",
    "    #votre code\n",
    "    \n",
    "    return L\n",
    "\n",
    "#test fonction\n",
    "print(de2(10))"
   ]
  },
  {
   "cell_type": "markdown",
   "metadata": {},
   "source": [
    "5. Programmer la fonction *de2_freq(n)* renvoyant la liste des fréquences des résultats précédents.  \n",
    "Exemple:    *de2_freq(10)* renvoie une liste de la forme \n",
    "\n",
    "            [(2, 10), (5, 30), (6, 30), (11, 30)]"
   ]
  },
  {
   "cell_type": "code",
   "execution_count": null,
   "metadata": {},
   "outputs": [],
   "source": [
    "def de2_freq(n):\n",
    "    \n",
    "    #votre code\n",
    "    \n",
    "    return L\n",
    "\n",
    "#test fonction\n",
    "print(de2_freq(10))"
   ]
  },
  {
   "cell_type": "code",
   "execution_count": null,
   "metadata": {},
   "outputs": [],
   "source": [
    "#Réalisation d'un diagramme statistique\n",
    "%matplotlib inline\n",
    "import matplotlib.pyplot as plt\n",
    "\n",
    "plt.figure(figsize=(15,3))\n",
    "\n",
    "X=[i[0] for i in de2_freq(10)]    #récupération des valeurs pour la liste des abscisses\n",
    "Y=[i[1] for i in de2_freq(10)]    #récupération des effectifs pour la liste des ordonnées\n",
    "plt.bar(X,Y,width=0.4)            #création d'un diagramme en barres\n",
    "\n",
    "plt.xticks(X)\n",
    "plt.xlabel(\"Evénements\", fontsize=\"14\", color=\"b\")\n",
    "plt.ylabel(\"Fréquences en %\", fontsize=\"14\", color=\"b\")\n",
    "plt.title(\"LANCERS DE 2 DES A 6 FACES\")\n",
    "\n",
    "plt.show()"
   ]
  },
  {
   "cell_type": "markdown",
   "metadata": {},
   "source": [
    "6. ***Etude de la stabilisation relative des fréquences vers la probabilité de l'événement quand 𝑛 augmente.***  \n",
    "Programmer une fonction *de_taille(n)* qui renvoie la liste des fréquences de l'événement <i>\"6\"</i> en fonction des tailles de l’échantillon variant de 1 à *n* .   \n",
    "Exemple:    *de_taille(50)* renvoie une liste de la forme \n",
    "\n",
    "            [0.0, 50.0, 33.333, 25.0, 20.0, 16.667, 14.286, 12.5, 11.111, 10.0, 9.091, 8.333, 7.692, 7.143, 6.667, 6.25, 5.882, 5.556, 5.263, 5.0, 4.762, 4.545, 8.696, 8.333, 12.0, 11.538, 11.111, 14.286, 13.793, 16.667, 16.129, 15.625, 15.152, 17.647, 17.143, 16.667, 16.216, 15.789, 15.385, 15.0, 14.634, 14.286, 16.279, 15.909, 17.778, 17.391, 17.021, 16.667, 16.327, 16.0]"
   ]
  },
  {
   "cell_type": "code",
   "execution_count": null,
   "metadata": {},
   "outputs": [],
   "source": [
    "def de_taille(n):\n",
    "    \n",
    "    liste_freq=[]              #initialisation de la liste des fréquences\n",
    "    eff6=0                     #initialisation de l'effectif de l'événement \"6\"\n",
    "    for i in range(1,n+1):\n",
    "        #tester si \"6\" est le résultat de l'expérience\n",
    "            #True: incrémantation de eff\n",
    "        #calcul de la fréquence \n",
    "        #ajout dans liste_freq de la fréquence\n",
    "    \n",
    "    return liste_freq\n",
    "\n",
    "#test\n",
    "print(de_taille(50))"
   ]
  },
  {
   "cell_type": "code",
   "execution_count": null,
   "metadata": {},
   "outputs": [],
   "source": [
    "#Représentation du nuage de points (taille, freq)\n",
    "#taille variant de 1 a n\n",
    "X=[i for i in range(1,n+1)]\n",
    "Y= de_taille(1000)                      \n",
    "plt.ylim(0,50)                          #limites de l'axe des ordonnées\n",
    "plt.scatter(X,Y,color=\"r\",marker=\"+\")   #fromatage des points\n",
    "plt.title(\"Variations de la fréquence en fonction \\n de la taille de l'échantillon\")\n",
    "plt.xlabel(\"tailles de l'échantillon\",color=\"b\")\n",
    "plt.ylabel(\"fréquences en %\", color=\"b\")\n",
    "\n",
    "#trace de la droite y = 1/6*100\n",
    "Y1=[1/6*100 for i in range(1,n+1)]\n",
    "plt.plot(X,Y1,color=\"b\",ls=\"--\",label=\"y=16,67%\")\n",
    "plt.legend()\n",
    "\n",
    "plt.show()"
   ]
  }
 ],
 "metadata": {
  "celltoolbar": "Format de la Cellule Texte Brut",
  "kernelspec": {
   "display_name": "Python 3",
   "language": "python",
   "name": "python3"
  },
  "language_info": {
   "codemirror_mode": {
    "name": "ipython",
    "version": 3
   },
   "file_extension": ".py",
   "mimetype": "text/x-python",
   "name": "python",
   "nbconvert_exporter": "python",
   "pygments_lexer": "ipython3",
   "version": "3.7.6"
  }
 },
 "nbformat": 4,
 "nbformat_minor": 4
}
