{
 "cells": [
  {
   "cell_type": "markdown",
   "metadata": {},
   "source": [
    "# INTRODUCTION AU LANGAGE PYTHON appliqué aux programmes de BCP: les structures répétitives"
   ]
  },
  {
   "cell_type": "markdown",
   "metadata": {},
   "source": [
    "- Extrait *BO* Programme de **Mathématiques** 2 BCP domaine *Algorithmique et programmation* :\n",
    "\n",
    "<table align=\"center\">\n",
    "  <tr>\n",
    "    <th align=\"center\"><b>Capacités</th>\n",
    "    <th align=\"center\"><b>Connaissances</th>\n",
    "  </tr>\n",
    "  <tr>\n",
    "    <td>Décomposer un problème en sous-problèmes.</td>\n",
    "    <td> </td>\n",
    "  </tr>  \n",
    "    <tr>\n",
    "    <td>Analyser un problème.</td>\n",
    "    <td> </td>\n",
    "  </tr>\n",
    "    <tr>\n",
    "    <td>Repérer les enchaînements logiques et les traduire en instructions conditionnelles et en boucles.\n",
    "    </td>\n",
    "    <td valign=\"top\">Séquences d’instructions, instructions conditionnelles, boucles bornées (for) et non bornées (while).  \n",
    "    </td>\n",
    "  </tr>  \n",
    "</table>\n",
    "\n",
    "Ce *notebook* (document *interactif*) traite des **structures répétitives** en Python. Les prérequis sont *les variables, les fonctions et les structures conditionnelles* .  \n",
    "La première partie présente les notions essentielles.  \n",
    "La deuxième partie présente des exercices suggérés dans les paragraphes *Exemples d'algorithmes et d'activités numériques* du programme.   \n",
    "- **Les codes du document peuvent être complétés, testés et modifiés**. Pour celà, `clic` sur le cadre, puis `shift-enter` ou &#x27A7;`Exécuter` dans la barre d'outils ci-dessus.  \n",
    "Pour *rafraîchir* tous les codes, `Kernel` -> `Restart & Clear Output`  \n",
    "Pour *rafraîchir* un seul code (*JupyterLab*), `clic-droit` -> `Clear Outputs`"
   ]
  },
  {
   "cell_type": "markdown",
   "metadata": {},
   "source": [
    "  "
   ]
  },
  {
   "cell_type": "markdown",
   "metadata": {},
   "source": [
    "## LES STRUCTURES répétitives (boucles)\n",
    "\n",
    "Une **boucle** permet de répéter des instructions plusieurs fois en fonction d'un prédicat (=test) ou du parcours d'une séquence.\n",
    "\n",
    "### Les boucles non-bornées: **tant que... (while...)**\n",
    "\n",
    "La syntaxe est:\n",
    "```python\n",
    "while condition:\n",
    "    #Bloc d'instructions\n",
    "```\n",
    "\n",
    "*Exemple:*"
   ]
  },
  {
   "cell_type": "code",
   "execution_count": null,
   "metadata": {},
   "outputs": [],
   "source": [
    "i=0                  #ON INITIALISE UNE VARIABLE-COMPTEUR\n",
    "\n",
    "while i<=5:\n",
    "    print(\"rang\",i)\n",
    "    i=i+1            #On incrémente la variable"
   ]
  },
  {
   "cell_type": "markdown",
   "metadata": {},
   "source": [
    "**A RETENIR:**  \n",
    "Ne pas oublier d'incrémenter la variable-compteur, sinon la condition étant toujours vraie, la boucle sera **infinie** .  \n",
    "Pour sortir d'une boucle infinie, taper `CRTL + C`."
   ]
  },
  {
   "cell_type": "markdown",
   "metadata": {},
   "source": [
    "### Les boucles bornées: **for ... in ...**\n",
    "\n",
    "L'instruction **for** agit sur des **séquences**: *chaînes de caractères, intervalles (range), ...*   \n",
    "La syntaxe est:\n",
    "```python\n",
    "for element in sequence:\n",
    "    #Blocs d'instructions\n",
    "```\n",
    "\n",
    "*Exemples:*"
   ]
  },
  {
   "cell_type": "code",
   "execution_count": null,
   "metadata": {},
   "outputs": [],
   "source": [
    "phrase=\"Bonjour les amis !\"\n",
    "\n",
    "for i in phrase:             #i parcourt la chaîne de caractères\n",
    "    if i.isalpha():          #teste si i est une lettre (caractère alphabétique)\n",
    "        if i in \"AEIOUYaeiouy\":\n",
    "            print(i,\"est une voyelle\")\n",
    "        else:\n",
    "            print(i,\"est une consonne\")\n",
    "    else:\n",
    "        print(i,\"n'est pas une lettre\")"
   ]
  },
  {
   "cell_type": "code",
   "execution_count": null,
   "metadata": {},
   "outputs": [],
   "source": [
    "for i in range(1,10):              #i parcourt l'intervalle [1;10[\n",
    "    if i==1:\n",
    "        print(\"j'ai\",i,\"an.\")\n",
    "    else:\n",
    "        print(\"j'ai\",i,\"ans.\")"
   ]
  },
  {
   "cell_type": "code",
   "execution_count": null,
   "metadata": {},
   "outputs": [],
   "source": [
    "#informations sur la fonction range\n",
    "help(range)"
   ]
  },
  {
   "cell_type": "markdown",
   "metadata": {},
   "source": [
    "**A RETENIR:**  \n",
    "**range(**start, stop[, step**)**  : renvoie une séquence de nombres entiers; *step* est optionnel."
   ]
  },
  {
   "cell_type": "markdown",
   "metadata": {},
   "source": [
    "## Exercices d'applications"
   ]
  },
  {
   "cell_type": "markdown",
   "metadata": {},
   "source": [
    "### Suites numériques"
   ]
  },
  {
   "cell_type": "markdown",
   "metadata": {},
   "source": [
    "1. Soit la suite <var>(v<sub>n</sub>)</var> définie par <var>v(n) = n<sup>3</sup>-75.n<sup>2</sup>+1350.n-5000</var> avec <var>n</var> entier positif.  \n",
    "Programmer une fonction <i>termes_suite(n)</i> renvoyant l'affichage des <i>n</i> premiers termes.  \n",
    "Exemple:    <i>termes_suite(15)</i> renvoie \n",
    "\n",
    "            v(0)=-5000\n",
    "            v(1)=-3724\n",
    "            ...\n",
    "            v(14)=1944"
   ]
  },
  {
   "cell_type": "code",
   "execution_count": null,
   "metadata": {},
   "outputs": [],
   "source": [
    "#Fonction qui renvoie la valeur du terme de rang n; le premier terme est suite(0).\n",
    "def suite(n):\n",
    "    return n**3-75*n**2+1350*n-5000\n",
    "\n",
    "#Affichage des n premiers termes\n",
    "def termes_suite(n):\n",
    "    for i in range(....):\n",
    "     \n",
    "    #votre code\n",
    "    \n",
    "    print(....)\n",
    "    \n",
    "    \n",
    "#Test fonction\n",
    "termes_suites(15)"
   ]
  },
  {
   "cell_type": "markdown",
   "metadata": {},
   "source": [
    "2. Programmer les fonctions:  \n",
    "&bull; *somme_suite(n)* renvoyant la somme des <i>n</i> premiers termes  \n",
    "&bull; *maxi_suite(n)* renvoyant, pour les *n* premiers termes, la valeur maximale et le rang dans une chaîne de caractères"
   ]
  },
  {
   "cell_type": "code",
   "execution_count": null,
   "metadata": {},
   "outputs": [],
   "source": [
    "def somme_suite(n):\n",
    "    somme=0                      #Initialisation d'une variable somme qui sera incrémentée par les valeurs de chaque terme\n",
    "        \n",
    "    #votre code\n",
    "    \n",
    "    return somme       \n",
    "\n",
    "\n",
    "#Test fonction\n",
    "print(somme_suite(15))"
   ]
  },
  {
   "cell_type": "code",
   "execution_count": null,
   "metadata": {},
   "outputs": [],
   "source": [
    "def maxi_suite(n):\n",
    "    maxi=termes_suite(0)         #Initialisation d'une variable maxi qui prend la valeur du premier terme de la suite\n",
    "    I=0                          #Initialisation d'une variable I rang du terme de valeur maxi\n",
    "   \n",
    "    #votre code\n",
    "        \n",
    "    print(\"v(\",I,\")=\",maxi)\n",
    "\n",
    "\n",
    "#Test fonction\n",
    "maxi_suite(15)"
   ]
  },
  {
   "cell_type": "markdown",
   "metadata": {},
   "source": [
    "3. Soient les suites définies par récurrence:    \n",
    "<var>u<sub>n+1</sub> = u<sub>n</sub>+105</var> et  <var>u<sub>0</sub></var> = 200  \n",
    "<var>v<sub>n+1</sub> = 1,5.v<sub>n</sub></var> et  <var>v<sub>0</sub></var> = 3  ***(T BCP)***   \n",
    "Programmer une fonction *somme_suite(n)* renvoyant la somme des <i>n</i> premiers termes"
   ]
  },
  {
   "cell_type": "code",
   "execution_count": null,
   "metadata": {},
   "outputs": [],
   "source": [
    "#Pour la suite un\n",
    "\n",
    "#Affichage des n premiers termes\n",
    "def termes_suite(n):\n",
    "    u=200                             #Initialisation du premier terme\n",
    "    for i in range(....):\n",
    "     \n",
    "    #votre code\n",
    "    \n",
    "    print(....)\n",
    "    \n",
    "    \n",
    "#Test fonction\n",
    "termes_suites(15)"
   ]
  },
  {
   "cell_type": "code",
   "execution_count": null,
   "metadata": {},
   "outputs": [],
   "source": [
    "def somme_suite(n):\n",
    "    u=200\n",
    "    somme=200                         #Initialisation d'une variable somme qui sera incrémentée par les valeurs de chaque terme\n",
    "        \n",
    "    #votre code\n",
    "    \n",
    "    return somme       \n",
    "\n",
    "\n",
    "#Test fonction\n",
    "print(somme_suite(15))"
   ]
  },
  {
   "cell_type": "markdown",
   "metadata": {},
   "source": [
    "4. Ecrire le script d'une fonction *rang_sup(n,val)* qui renvoie, pour les *n* premiers termes, le rang à partir duquel les termes de la suite monotone sont supérieurs à la valeur donnée *val*."
   ]
  },
  {
   "cell_type": "code",
   "execution_count": null,
   "metadata": {},
   "outputs": [],
   "source": [
    "#Pour la suite arithmétique un\n",
    "def rang_sup(n,val):\n",
    "    \n",
    "    #Votre code\n",
    "\n",
    "    return N\n",
    "\n",
    "\n",
    "#Test fonction\n",
    "print(rang_sup(15,1000))  "
   ]
  },
  {
   "cell_type": "markdown",
   "metadata": {},
   "source": [
    "### Fonctions"
   ]
  },
  {
   "cell_type": "markdown",
   "metadata": {},
   "source": [
    "1. Créer des programmes affichant les valeurs des fonctions carré et sinus sur un intervalle [a;b] avec un pas donné.  \n",
    " *Exemple:*    <i>f_carre(-5,5,0.1)</i> renvoie \n",
    "\n",
    "            x=-5; y=25\n",
    "            x=-4.9; y=24.01\n",
    "            x=-4.8; y=23.04\n",
    "            ...\n",
    "            x=5; y=25"
   ]
  },
  {
   "cell_type": "code",
   "execution_count": null,
   "metadata": {},
   "outputs": [],
   "source": [
    "#Fonction carré\n",
    "def f_carre(a,b,p):\n",
    "    \"\"\"\n",
    "    Entrée:\n",
    "    a: borne inférieure de l'intervalle\n",
    "    b: borne supérieure de l'intervalle\n",
    "    p: pas\n",
    "    \n",
    "    Sortie:\n",
    "    str: \"x; y\", ...\n",
    "    \"\"\"\n",
    "    x=a                      #Initialisation de la valeur minimale de x\n",
    "    while x<=b:\n",
    "        \n",
    "        #Votre code\n",
    "        #!!Ne pas oublier d'incrémenter x!!\n",
    "        \n",
    "        \n",
    "#Test fonction\n",
    "f_carre(-5,5,0.1)"
   ]
  },
  {
   "cell_type": "code",
   "execution_count": null,
   "metadata": {},
   "outputs": [],
   "source": [
    "#Fonction sinus\n",
    "def f_sinus(a,b,p):\n",
    "   \n",
    "    #Votre code\n",
    "   \n",
    "        \n",
    "#Test fonction\n",
    "f_sinus(0,pi,pi/4)"
   ]
  },
  {
   "cell_type": "markdown",
   "metadata": {},
   "source": [
    "2. Compléter le script suivant de la fonction *racine(a,b,p)* qui renvoie une valeur approchée à *p près* de la racine d'une fonction lorsqu'on sait qu'elle existe sur l'intervalle donné.  \n",
    " *Méthode:* En partant de la borne inférieure *a*, ajouter le pas *p* puis tester le signe du produit *f(a).f(b)*."
   ]
  },
  {
   "cell_type": "code",
   "execution_count": null,
   "metadata": {},
   "outputs": [],
   "source": [
    "#Soit la fonction suivante\n",
    "def f(x):\n",
    "    return x**2-6*x+5\n",
    "\n",
    "def racine(a,b,p):\n",
    "    \"\"\"\n",
    "    Entrée:\n",
    "    a: borne inférieure de l'intervalle\n",
    "    b: borne supérieure de l'intervalle\n",
    "    p: précision\n",
    "    \n",
    "    Sortie:\n",
    "    rac: float, valeur approchée de la racine sur l'intervalle donné à p près\n",
    "    \"\"\"\n",
    "    \n",
    "    #Votre code\n",
    "    \n",
    "    \n",
    "\n",
    "#Test fonction\n",
    "print(racine(0,5,0.01))"
   ]
  },
  {
   "cell_type": "markdown",
   "metadata": {},
   "source": [
    "### Probabilités"
   ]
  },
  {
   "cell_type": "markdown",
   "metadata": {},
   "source": [
    "1. Le module *random*  \n",
    "Ce module permet la génération de nombres aléatoires."
   ]
  },
  {
   "cell_type": "code",
   "execution_count": null,
   "metadata": {},
   "outputs": [],
   "source": [
    "#Exécuter, modifier et tester\n",
    "from random import *       #chargement de toutes les méthodes et attributs du module\n",
    "a=random()                 #renvoie un nombre aléatoire compris entre 0(inclus) et 1(exclus)\n",
    "b=randint(1,6)             #renvoie un nombre aléatoire compris entre 1(inclus) et 6(inclus!!!)\n",
    "print(a)\n",
    "print(b)"
   ]
  },
  {
   "cell_type": "markdown",
   "metadata": {},
   "source": [
    "2. Soit l'expérience aléatoire « lancer d’un dé à 6 faces ».  \n",
    "Programmer la fonction *de(n)* affichant les résultats pour un échantillon de taille *n* .  \n",
    "Exemple:    *de(10)* affiche \n",
    "\n",
    "            1\n",
    "            5\n",
    "            ...\n",
    "            3"
   ]
  },
  {
   "cell_type": "code",
   "execution_count": null,
   "metadata": {},
   "outputs": [],
   "source": [
    "def de(n):\n",
    "    \n",
    "    #Votre code\n",
    "   \n",
    "    \n",
    "\n",
    "#Test fonction\n",
    "de(10)"
   ]
  },
  {
   "cell_type": "markdown",
   "metadata": {},
   "source": [
    "3. Programmer une fonction *de5(n)* qui renvoie le nombre d'occurence de l'événement *5* pour un échantillon de taille *n*."
   ]
  },
  {
   "cell_type": "code",
   "execution_count": null,
   "metadata": {},
   "outputs": [],
   "source": [
    "def de5(n):\n",
    "\n",
    "    #Votre code\n",
    "    \n",
    "\n",
    "#Test fonction\n",
    "de5(10000)"
   ]
  },
  {
   "cell_type": "markdown",
   "metadata": {},
   "source": [
    "4. Programmer une fonction *freq_de5(n)* qui renvoie la fréquence de l'événement *5* pour un échantillon de taille *n*."
   ]
  },
  {
   "cell_type": "code",
   "execution_count": null,
   "metadata": {},
   "outputs": [],
   "source": [
    "def freq_de5(n):\n",
    "\n",
    "    #Votre code\n",
    "    \n",
    "\n",
    "#Test fonction\n",
    "freq_de5(10000)"
   ]
  }
 ],
 "metadata": {
  "kernelspec": {
   "display_name": "Python 3",
   "language": "python",
   "name": "python3"
  },
  "language_info": {
   "codemirror_mode": {
    "name": "ipython",
    "version": 3
   },
   "file_extension": ".py",
   "mimetype": "text/x-python",
   "name": "python",
   "nbconvert_exporter": "python",
   "pygments_lexer": "ipython3",
   "version": "3.7.6"
  }
 },
 "nbformat": 4,
 "nbformat_minor": 4
}
