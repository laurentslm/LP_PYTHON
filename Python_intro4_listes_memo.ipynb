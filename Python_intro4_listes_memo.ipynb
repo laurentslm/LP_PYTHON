{
 "cells": [
  {
   "cell_type": "markdown",
   "metadata": {},
   "source": [
    "# INTRODUCTION AU LANGAGE PYTHON appliqué aux programmes de 1 et T BCP: les listes"
   ]
  },
  {
   "cell_type": "markdown",
   "metadata": {},
   "source": [
    "- Extrait *BO* Programmes de **Mathématiques** 1 BCP et T BCP :\n",
    "\n",
    "<table align=\"center\">\n",
    "  <tr>\n",
    "    <th align=\"center\">Capacités</th>\n",
    "    <th>Connaissances</th>\n",
    "  </tr>\n",
    "  <tr>\n",
    "    <td>Générer une liste.</td>\n",
    "    <td valign=\"top\">liste.</td>\n",
    "  </tr>\n",
    "  <tr>\n",
    "    <td>Manipuler des éléments d’une liste (ajouter, supprimer, extraire…).</td>\n",
    "  </tr>\n",
    "  <tr>\n",
    "      <td align=\"left\">Parcourir une liste.</td>\n",
    "  </tr>\n",
    "  <tr>\n",
    "    <td>Manipuler des éléments d’une liste (ajouter, supprimer, extraire…).</td>\n",
    "  </tr>\n",
    "  <tr>\n",
    "    <td>Itérer une ou plusieurs instructions sur les éléments d’une liste.</td>\n",
    "  </tr>\n",
    "       \n",
    "</table>\n"
   ]
  },
  {
   "cell_type": "markdown",
   "metadata": {},
   "source": [
    "Absentes du programme de 2 BCP, les listes apparaissent dans le programme de Mathématiques de 1 BCP.   \n",
    "Ce *notebook* (document *interactif*) a pour objectif d'introduire les objets de la classe **List** en présentant les méthodes et les fonctions les plus utiles pour la réalisation d'activités avec les élèves.  \n",
    "Les prérequis sont *les variables, les fonctions, les structures conditionnelles et répétitives* . \n",
    "\n",
    "**Les codes du document peuvent être complétés, testés et modifiés**. Pour celà, `clic` sur le cadre, puis `shift-enter` ou &#x27A7;`Exécuter` dans la barre d'outils ci-dessus.  \n",
    "Pour *rafraîchir* tous les codes, `Kernel` -> `Restart & Clear Output`  \n",
    "Pour *rafraîchir* un seul code (*JupyterLab*), `clic-droit` -> `Clear Outputs`"
   ]
  },
  {
   "cell_type": "markdown",
   "metadata": {},
   "source": [
    "# Instanciation d'une liste"
   ]
  },
  {
   "cell_type": "code",
   "execution_count": null,
   "metadata": {},
   "outputs": [],
   "source": [
    "liste1=list()                  #affectation d'une liste vide à la variable liste1\n",
    "liste2=[]                      #création d'une liste vide\n",
    "liste2=[11,22,33,\"hello\"]      #les éléments d'une liste sont placés entre des [ ], les éléments sont séparés par des ,"
   ]
  },
  {
   "cell_type": "markdown",
   "metadata": {},
   "source": [
    "Les listes peuvent contenir des objets de différentes classes (*integer*, *float*, *string*, *list*, ...). On dit que les listes sont des **objets conteneurs**."
   ]
  },
  {
   "cell_type": "markdown",
   "metadata": {},
   "source": [
    "# Méthodes de liste et fonctions utiles"
   ]
  },
  {
   "cell_type": "markdown",
   "metadata": {},
   "source": [
    "## Accéder aux éléments d'une liste"
   ]
  },
  {
   "cell_type": "markdown",
   "metadata": {},
   "source": [
    "Exécuter et/ou modifier les codes suivants et observer les résultats. "
   ]
  },
  {
   "cell_type": "code",
   "execution_count": null,
   "metadata": {},
   "outputs": [],
   "source": [
    "ma_liste=[11,22,33,44,\"hello\"]\n",
    "ma_liste[0]  #le 1er élément de la liste est de rang 0. Tester avec d'autres valeurs de l'indice."
   ]
  },
  {
   "cell_type": "code",
   "execution_count": null,
   "metadata": {},
   "outputs": [],
   "source": [
    "#en partant de la fin de la liste\n",
    "ma_liste[-1]  #tester avec d'autres valeurs"
   ]
  },
  {
   "cell_type": "code",
   "execution_count": null,
   "metadata": {},
   "outputs": [],
   "source": [
    "#accès à plusieurs valeurs\n",
    "ma_liste[1:4]   #accès aux valeurs comprises entre les rangs 1 et 4-1=3 \n",
    "                #en Python ,le dernier indice est très souvent exclu"
   ]
  },
  {
   "cell_type": "code",
   "execution_count": null,
   "metadata": {},
   "outputs": [],
   "source": [
    "#accès à des valeurs en partant du début de la liste\n",
    "ma_liste[:3]  #renvoie les valeurs du début jusqu'au rang 3-1=2"
   ]
  },
  {
   "cell_type": "code",
   "execution_count": null,
   "metadata": {},
   "outputs": [],
   "source": [
    "#accès à des valeurs jusqu'à la fin de la liste\n",
    "ma_liste[2:]  #renvoie les valeurs du rang 2 jusqu'à la fin"
   ]
  },
  {
   "cell_type": "markdown",
   "metadata": {},
   "source": [
    "## Insérer des objets"
   ]
  },
  {
   "cell_type": "code",
   "execution_count": null,
   "metadata": {},
   "outputs": [],
   "source": [
    "#LA METHODE append(objet) AJOUTE UN OBJET EN FIN DE LISTE\n",
    "ma_liste=[11,22,33,44,\"hello\"]\n",
    "ma_liste.append(2.5)    #tester avec d'autres objets (\"salut\", [1,2,3],...)\n",
    "ma_liste"
   ]
  },
  {
   "cell_type": "code",
   "execution_count": null,
   "metadata": {},
   "outputs": [],
   "source": [
    "#LA METHODE insert(indice, objet) AJOUTE UN OBJET A L'INDICE DONNE\n",
    "ma_liste=[11,22,33,44,\"hello\"]\n",
    "ma_liste.insert(2, \"salut\")    #tester avec d'autres indices et objets\n",
    "ma_liste"
   ]
  },
  {
   "cell_type": "markdown",
   "metadata": {},
   "source": [
    "## Concaténation de listes"
   ]
  },
  {
   "cell_type": "code",
   "execution_count": null,
   "metadata": {},
   "outputs": [],
   "source": [
    "#UTILISATION DU SYMBOLE +\n",
    "liste1=[\"lundi\",\"mardi\"]\n",
    "liste2=[25,12]\n",
    "liste3=liste1+liste2  #la variable liste3 reçoit la concaténation\n",
    "liste3"
   ]
  },
  {
   "cell_type": "code",
   "execution_count": null,
   "metadata": {},
   "outputs": [],
   "source": [
    "#UTILISATION DE LA METHODE extend(liste)\n",
    "liste1=[5,6]\n",
    "liste2=[5.4,10.3]\n",
    "liste2.extend(liste1)  #la méthode modifie la variable liste2\n",
    "liste2"
   ]
  },
  {
   "cell_type": "markdown",
   "metadata": {},
   "source": [
    "## Supprimer des objets"
   ]
  },
  {
   "cell_type": "code",
   "execution_count": null,
   "metadata": {},
   "outputs": [],
   "source": [
    "#UTILISATION DE LE MOT-CLE del\n",
    "ma_liste=[11,22,33,44,\"hello\"]\n",
    "del ma_liste[2]     #supprime l'objet de rang 2\n",
    "ma_liste"
   ]
  },
  {
   "cell_type": "code",
   "execution_count": null,
   "metadata": {},
   "outputs": [],
   "source": [
    "#UTILISATION DE LA METHODE remove(objet_de_la_liste)\n",
    "ma_liste=[11,22,33,44,\"hello\"]\n",
    "ma_liste.remove(11)\n",
    "ma_liste"
   ]
  },
  {
   "cell_type": "markdown",
   "metadata": {},
   "source": [
    "## Trier des objets"
   ]
  },
  {
   "cell_type": "code",
   "execution_count": null,
   "metadata": {},
   "outputs": [],
   "source": [
    "#UTILISATION DE LA METHODE sort()\n",
    "ma_liste=[22,11,333.5,44]\n",
    "ma_liste.sort()              #tri par ordre croissant\n",
    "                             #tester avec des chaines de caractères \"janvier\", \"février\", \"mars\", ...\n",
    "ma_liste"
   ]
  },
  {
   "cell_type": "code",
   "execution_count": null,
   "metadata": {},
   "outputs": [],
   "source": [
    "ma_liste.sort(reverse=True)   #tri par ordre décroissant\n",
    "                              #la méthode sort() utilise un paramètre reverse \n",
    "                              #qui prend les valeurs True ou False (par défaut)\n",
    "ma_liste"
   ]
  },
  {
   "cell_type": "code",
   "execution_count": null,
   "metadata": {},
   "outputs": [],
   "source": [
    "#UTILISATION DE LA FONCTION sorted()\n",
    "ma_liste=[22,11,333.5,44]\n",
    "liste1=sorted(ma_liste)              #tri par ordre croissant\n",
    "liste2=sorted(ma_liste,reverse=True) #tri par ordre décroissant\n",
    "\n",
    "print(\"tri par ordre croissant: \", liste1, \"; tri par ordre décroissant: \",liste2)"
   ]
  },
  {
   "cell_type": "markdown",
   "metadata": {},
   "source": [
    "# Parcourir une liste"
   ]
  },
  {
   "cell_type": "markdown",
   "metadata": {},
   "source": [
    "## En utilisant des boucles (**while** ou **for**)\n",
    "\n",
    "Ces méthodes sont identiques à celles utilisées pour le parcours des chaines de caractères."
   ]
  },
  {
   "cell_type": "code",
   "execution_count": null,
   "metadata": {},
   "outputs": [],
   "source": [
    "ma_liste=[\"a\",\"b\",\"c\",\"d\"]\n",
    "i=0   #initialisation de la variable i\n",
    "while i<len(ma_liste):        #len(ma_liste) renvoie la longueur de la liste (ici len(ma_liste=4)\n",
    "                              #i prendra comme valeurs 0,1,2,3\n",
    "    print(ma_liste[i])\n",
    "    i=i+1   #incrémentation de la variable"
   ]
  },
  {
   "cell_type": "code",
   "execution_count": null,
   "metadata": {},
   "outputs": [],
   "source": [
    "ma_liste=[\"a\",\"b\",\"c\",\"d\"]\n",
    "for i in ma_liste:            #i prendra comme valeur chaque ELEMENTS de ma_liste\n",
    "    print(i)"
   ]
  },
  {
   "cell_type": "markdown",
   "metadata": {},
   "source": [
    "## En utilisant la fonction **enumerate()**"
   ]
  },
  {
   "cell_type": "code",
   "execution_count": null,
   "metadata": {},
   "outputs": [],
   "source": [
    "ma_liste=[\"a\",\"b\",\"c\",\"d\"]\n",
    "for i,j in enumerate(ma_liste):      #La fonction enumerate() prend en paramètre une liste;\n",
    "                                     #elle renvoie des couples (indice, valeur);\n",
    "                                     #les indices et les valeurs sont affectés aux variables i et j\n",
    "    print(\"la lettre {} se trouve à l'indice {}\".format (j,i))"
   ]
  },
  {
   "cell_type": "markdown",
   "metadata": {},
   "source": [
    "# Les compréhensions de listes"
   ]
  },
  {
   "cell_type": "markdown",
   "metadata": {},
   "source": [
    "- Extrait *BO* Programmes de **Mathématiques** 1 BCP et T BCP :\n",
    "\n",
    " **Commentaires**  \n",
    " - Les listes peuvent être générées en extension, par ajouts successifs d’éléments, et en compréhension."
   ]
  },
  {
   "cell_type": "markdown",
   "metadata": {},
   "source": [
    "Les compréhensions de listes permettent de parcourir une liste et d'en renvoyer une seconde modifiée ou non.  \n",
    "La syntaxe pour effectuer un filtrage est la suivante:\n",
    "```python\n",
    "        nouvelle_sequence = [operation_sur_element  for  element  in  ancienne_sequence  if  condition]\n",
    "```"
   ]
  },
  {
   "cell_type": "code",
   "execution_count": null,
   "metadata": {},
   "outputs": [],
   "source": [
    "#PARCOURS SIMPLE\n",
    "#création d'une liste contenant les valeurs au carré d'une liste donnée\n",
    "liste1=[0,1,2,3,4,5]\n",
    "liste2=[nb*nb for nb in liste1]  #renvoie la liste des carrés des éléments de liste1\n",
    "print(liste2)                    #tester et créer d'autre listes (cube, ajout d'une constante, ...)"
   ]
  },
  {
   "cell_type": "code",
   "execution_count": null,
   "metadata": {},
   "outputs": [],
   "source": [
    "#FILTRAGE AVEC BRANCHEMENT CONDITIONNEL\n",
    "#création d'une liste contenant les valeurs au carré des valeurs paires d'une liste donnée\n",
    "liste1=[0,1,2,3,4,5]\n",
    "liste2=[nb*nb for nb in liste1 if nb%2==0]  #nb%2==0 est un test: True si le reste de la division entière \n",
    "                                            #de nb par 2 est 0, False sinon\n",
    "                                            #nb prend les valeurs de liste1 si le résultat du test est True \n",
    "                                            #(soit les valeurs paires)\n",
    "print(liste2)"
   ]
  }
 ],
 "metadata": {
  "celltoolbar": "Aucun(e)",
  "kernelspec": {
   "display_name": "Python 3",
   "language": "python",
   "name": "python3"
  },
  "language_info": {
   "codemirror_mode": {
    "name": "ipython",
    "version": 3
   },
   "file_extension": ".py",
   "mimetype": "text/x-python",
   "name": "python",
   "nbconvert_exporter": "python",
   "pygments_lexer": "ipython3",
   "version": "3.7.6"
  }
 },
 "nbformat": 4,
 "nbformat_minor": 4
}
